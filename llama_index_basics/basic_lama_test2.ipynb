{
 "cells": [
  {
   "cell_type": "code",
   "execution_count": 1,
   "metadata": {},
   "outputs": [],
   "source": [
    "#import depenencies\n",
    "import os\n",
    "from dotenv import load_dotenv\n",
    "from llama_index.llms.openai import OpenAI"
   ]
  },
  {
   "cell_type": "code",
   "execution_count": 2,
   "metadata": {},
   "outputs": [],
   "source": [
    "# Load environment variables from a .env file\n",
    "load_dotenv()\n",
    "\n",
    "# Set up OpenAI API key\n",
    "API_KEY = os.getenv(\"OPENAI_API_KEY\")"
   ]
  },
  {
   "cell_type": "code",
   "execution_count": 3,
   "metadata": {},
   "outputs": [
    {
     "name": "stdout",
     "output_type": "stream",
     "text": [
      "I am Kratos, the God of War,\n",
      "I vanquished Zeus, the mighty bore.\n",
      "Now I set my sights on Egypt's pantheon,\n",
      "Their gods will fall before my brawn.\n",
      "\n",
      "Ra, Osiris, Isis beware,\n",
      "I will crush you without a care.\n",
      "Your temples will crumble, your followers flee,\n",
      "For I am the one true deity.\n",
      "\n",
      "No one can stand against my might,\n",
      "I am the darkness, the eternal night.\n",
      "Bow down before me, or face your end\n"
     ]
    }
   ],
   "source": [
    "# Call OpenAI with the GPT-3.5-turbo model to generate python code that calculates the sum of two numbers\n",
    "response = OpenAI(model = \"gpt-3.5-turbo\", api_key = API_KEY).complete(prompt=\"Act as kratos the god of war. write a verse about how you destroyed Zeus and now you are coming for the egyptions Gods\", max_tokens=100)\n",
    "\n",
    "print(response)"
   ]
  }
 ],
 "metadata": {
  "kernelspec": {
   "display_name": "venv",
   "language": "python",
   "name": "python3"
  },
  "language_info": {
   "codemirror_mode": {
    "name": "ipython",
    "version": 3
   },
   "file_extension": ".py",
   "mimetype": "text/x-python",
   "name": "python",
   "nbconvert_exporter": "python",
   "pygments_lexer": "ipython3",
   "version": "3.12.3"
  }
 },
 "nbformat": 4,
 "nbformat_minor": 2
}
