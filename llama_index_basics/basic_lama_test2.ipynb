{
 "cells": [
  {
   "cell_type": "code",
   "execution_count": 1,
   "metadata": {},
   "outputs": [],
   "source": [
    "#import depenencies\n",
    "import os\n",
    "from dotenv import load_dotenv\n",
    "from llama_index.llms.openai import OpenAI"
   ]
  },
  {
   "cell_type": "code",
   "execution_count": 4,
   "metadata": {},
   "outputs": [],
   "source": [
    "# Load environment variables from a .env file\n",
    "load_dotenv()\n",
    "\n",
    "# Set up OpenAI API key\n",
    "API_KEY = os.getenv(\"OPENAI_API_KEY\")"
   ]
  },
  {
   "cell_type": "code",
   "execution_count": 3,
   "metadata": {},
   "outputs": [
    {
     "name": "stdout",
     "output_type": "stream",
     "text": [
      "def sum_of_two_numbers(num1, num2):\n",
      "    return num1 + num2\n",
      "\n",
      "# Example usage\n",
      "result = sum_of_two_numbers(5, 10)\n",
      "print(result)  # Output: 15\n"
     ]
    }
   ],
   "source": [
    "# Call OpenAI with the GPT-3.5-turbo model to generate python code that calculates the sum of two numbers\n",
    "response = OpenAI(model = \"gpt-3.5-turbo\", api_key = API_KEY).complete(prompt=\"Create a Python function that calculates the sum of two numbers\", max_tokens=100)\n",
    "\n",
    "print(response)"
   ]
  }
 ],
 "metadata": {
  "kernelspec": {
   "display_name": "venv",
   "language": "python",
   "name": "python3"
  },
  "language_info": {
   "codemirror_mode": {
    "name": "ipython",
    "version": 3
   },
   "file_extension": ".py",
   "mimetype": "text/x-python",
   "name": "python",
   "nbconvert_exporter": "python",
   "pygments_lexer": "ipython3",
   "version": "3.9.13"
  }
 },
 "nbformat": 4,
 "nbformat_minor": 2
}
